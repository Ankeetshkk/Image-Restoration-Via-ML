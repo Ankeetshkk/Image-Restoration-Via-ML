{
 "cells": [
  {
   "cell_type": "markdown",
   "metadata": {},
   "source": [
    "### Import packages"
   ]
  },
  {
   "cell_type": "code",
   "execution_count": null,
   "metadata": {},
   "outputs": [],
   "source": [
    "from tkinter import *"
   ]
  },
  {
   "cell_type": "markdown",
   "metadata": {},
   "source": [
    "### Application class"
   ]
  },
  {
   "cell_type": "code",
   "execution_count": null,
   "metadata": {},
   "outputs": [
    {
     "name": "stdout",
     "output_type": "stream",
     "text": [
      "here it comes: self.settings[\"template\"].set(fname)\n"
     ]
    }
   ],
   "source": [
    "from tkinter import *\n",
    "from tkinter.filedialog import askopenfilename\n",
    "from tkinter.messagebox import showerror\n",
    "\n",
    "class MyFrame(Frame):\n",
    "    def __init__(self):\n",
    "        Frame.__init__(self)\n",
    "        self.master.title(\"vision IP\")\n",
    "        self.master.rowconfigure(5, weight=1)\n",
    "        self.master.columnconfigure(5, weight=1)\n",
    "        self.grid(sticky=W+E+N+S)\n",
    "\n",
    "        self.button = Button(self, text=\"Browse\", command=self.load_file, width=10)\n",
    "        self.button.grid(row=1, column=0, sticky=W)\n",
    "\n",
    "    def load_file(self):\n",
    "        fname = askopenfilename(filetypes=())\n",
    "        if fname:\n",
    "            try:\n",
    "                print(\"\"\"here it comes: self.settings[\"template\"].set(fname)\"\"\")\n",
    "            except:                     # <- naked except is a bad idea\n",
    "                showerror(\"Open Source File\", \"Failed to read file\\n'%s'\" % fname)\n",
    "            return\n",
    "\n",
    "\n",
    "if __name__ == \"__main__\":\n",
    "    MyFrame().mainloop()"
   ]
  },
  {
   "cell_type": "code",
   "execution_count": null,
   "metadata": {
    "collapsed": true
   },
   "outputs": [],
   "source": []
  }
 ],
 "metadata": {
  "kernelspec": {
   "display_name": "Python 3",
   "language": "python",
   "name": "python3"
  },
  "language_info": {
   "codemirror_mode": {
    "name": "ipython",
    "version": 3
   },
   "file_extension": ".py",
   "mimetype": "text/x-python",
   "name": "python",
   "nbconvert_exporter": "python",
   "pygments_lexer": "ipython3",
   "version": "3.6.1"
  }
 },
 "nbformat": 4,
 "nbformat_minor": 2
}
